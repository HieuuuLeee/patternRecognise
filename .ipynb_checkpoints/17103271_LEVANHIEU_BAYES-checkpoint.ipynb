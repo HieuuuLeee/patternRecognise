{
 "cells": [
  {
   "cell_type": "code",
   "execution_count": 1,
   "metadata": {},
   "outputs": [],
   "source": [
    "import numpy as np\n",
    "import matplotlib.pyplot as plt\n",
    "from collections import Counter"
   ]
  },
  {
   "cell_type": "code",
   "execution_count": 2,
   "metadata": {},
   "outputs": [],
   "source": [
    "in_time = [(0,27),(1,25),(2,16),(3,19),(4,26),(5,20),(6,19),(7,17),(8,10),(9,5),(10,4),(11,4),(12,2)]\n",
    "cls_late = [(5,3), (6, 5), (7, 8), (8, 15), (9, 17), (10, 18), (11, 19), (12,16), (13, 9), (14, 8), (15, 8)]"
   ]
  },
  {
   "cell_type": "code",
   "execution_count": 3,
   "metadata": {},
   "outputs": [
    {
     "data": {
      "image/png": "[encoded data removed]",
      "text/plain": [
       "<Figure size 432x288 with 1 Axes>"
      ]
     },
     "metadata": {
      "needs_background": "light"
     },
     "output_type": "display_data"
    }
   ],
   "source": [
    "X, Y = zip(*in_time)\n",
    "X2, Y2 = zip(*cls_late)\n",
    "bar_width = 0.8\n",
    "plt.bar(X, Y, bar_width, color=\"red\", alpha=0.5, label=\"Đúng giờ\")\n",
    "bar_width = 0.8\n",
    "plt.bar(X2, Y2, bar_width, color=\"gray\", alpha=0.5, label=\"Trể\")\n",
    "plt.legend(loc='upper right')\n",
    "plt.show()"
   ]
  },
  {
   "cell_type": "markdown",
   "metadata": {},
   "source": [
    "1. Xây dựng biên phân lớp dựa trên histogram"
   ]
  },
  {
   "cell_type": "code",
   "execution_count": 4,
   "metadata": {},
   "outputs": [
    {
     "name": "stdout",
     "output_type": "stream",
     "text": [
      "0 1.0\n",
      "1 1.0\n",
      "2 1.0\n",
      "3 1.0\n",
      "4 1.0\n",
      "5 0.8695652173913043\n",
      "6 0.7916666666666666\n",
      "7 0.68\n",
      "8 0.4\n",
      "9 0.22727272727272727\n",
      "10 0.18181818181818182\n",
      "11 0.17391304347826086\n",
      "12 0.1111111111111111\n",
      "13 0\n",
      "14 0\n"
     ]
    }
   ],
   "source": [
    "in_time_dict = dict(in_time)\n",
    "too_late_dict = dict(cls_late)\n",
    "def catch_the_train(min):\n",
    "    s = in_time_dict.get(min, 0)\n",
    "    if s == 0:\n",
    "        return 0\n",
    "    else:\n",
    "        m = too_late_dict.get(min, 0)\n",
    "        return s / (s + m)\n",
    "for minutes in range(0, 15):\n",
    "    print(minutes, catch_the_train(minutes))"
   ]
  },
  {
   "cell_type": "code",
   "execution_count": 5,
   "metadata": {},
   "outputs": [
    {
     "data": {
      "text/plain": [
       "[<matplotlib.lines.Line2D at 0x20906ba8220>]"
      ]
     },
     "execution_count": 5,
     "metadata": {},
     "output_type": "execute_result"
    },
    {
     "data": {
      "image/png": "[encoded data removed]",
      "text/plain": [
       "<Figure size 432x288 with 1 Axes>"
      ]
     },
     "metadata": {
      "needs_background": "light"
     },
     "output_type": "display_data"
    }
   ],
   "source": [
    "vi_dat = []\n",
    "for _ in range(0,15):\n",
    "    vi_dat.append(catch_the_train(_))\n",
    "plt.plot(range(0,15),vi_dat)"
   ]
  },
  {
   "cell_type": "code",
   "execution_count": 7,
   "metadata": {},
   "outputs": [],
   "source": [
    "def pre_sum(A):\n",
    "    cur=0\n",
    "    res=np.zeros((len(A)))\n",
    "    for i in range(len(A)):\n",
    "        cur+=A[i]\n",
    "        res[i]=cur\n",
    "    return res\n",
    "\n",
    "def back_sum(A):\n",
    "    cur=0\n",
    "    n=len(A)\n",
    "    res=np.zeros((n))\n",
    "    for i in range(n):\n",
    "        cur+=A[n-i-1]\n",
    "        res[n-i-1]=cur\n",
    "    return res"
   ]
  },
  {
   "cell_type": "code",
   "execution_count": 8,
   "metadata": {},
   "outputs": [
    {
     "data": {
      "text/plain": [
       "array([1.        , 2.        , 3.        , 4.        , 5.        ,\n",
       "       5.86956522, 6.66123188, 7.34123188, 7.74123188, 7.96850461,\n",
       "       8.15032279, 8.32423584, 8.43534695, 8.43534695, 8.43534695])"
      ]
     },
     "execution_count": 8,
     "metadata": {},
     "output_type": "execute_result"
    }
   ],
   "source": [
    "pre_sum(vi_dat)"
   ]
  },
  {
   "cell_type": "code",
   "execution_count": 9,
   "metadata": {},
   "outputs": [
    {
     "data": {
      "text/plain": [
       "array([8.43534695, 7.43534695, 6.43534695, 5.43534695, 4.43534695,\n",
       "       3.43534695, 2.56578173, 1.77411506, 1.09411506, 0.69411506,\n",
       "       0.46684234, 0.28502415, 0.11111111, 0.        , 0.        ])"
      ]
     },
     "execution_count": 9,
     "metadata": {},
     "output_type": "execute_result"
    }
   ],
   "source": [
    "back_sum(vi_dat)"
   ]
  },
  {
   "cell_type": "code",
   "execution_count": 10,
   "metadata": {},
   "outputs": [],
   "source": [
    "vi_dat = np.array(vi_dat)\n",
    "def find_thresh_holding(A,B):\n",
    "    sumA = np.sum(A)\n",
    "    sumB = np.sum(B)\n",
    "    AA = back_sum(A)\n",
    "    BB = pre_sum(B)\n",
    "    C = np.zeros((len(A)))\n",
    "    print(C)\n",
    "    for i in range(len(A)-1):\n",
    "        C[i] = (sumA-AA[i+1]+sumB-BB[i])\n",
    "    for i in range(len(A)-1):\n",
    "        if(C[i+1]<C[i]):\n",
    "            return [i,C[i]]"
   ]
  },
  {
   "cell_type": "code",
   "execution_count": 11,
   "metadata": {},
   "outputs": [
    {
     "name": "stdout",
     "output_type": "stream",
     "text": [
      "[0. 0. 0. 0. 0. 0. 0. 0. 0. 0. 0. 0. 0. 0. 0.]\n"
     ]
    }
   ],
   "source": [
    "thresh,__ = find_thresh_holding(vi_dat,1-vi_dat)"
   ]
  },
  {
   "cell_type": "code",
   "execution_count": 12,
   "metadata": {},
   "outputs": [],
   "source": [
    "def testt(a):\n",
    "    if a>thresh:\n",
    "        print('Ket qua luc 6:{} la tre'.format(30+a))\n",
    "    else:\n",
    "        print('Ket qua luc 6:{} la dung gio'.format(30+a))"
   ]
  },
  {
   "cell_type": "code",
   "execution_count": 13,
   "metadata": {},
   "outputs": [
    {
     "name": "stdout",
     "output_type": "stream",
     "text": [
      "Ket qua luc 6:34 la dung gio\n",
      "Ket qua luc 6:35 la dung gio\n",
      "Ket qua luc 6:36 la dung gio\n",
      "Ket qua luc 6:37 la dung gio\n",
      "Ket qua luc 6:38 la tre\n"
     ]
    }
   ],
   "source": [
    "test = [4,5,6,7,8]\n",
    "for i in test:\n",
    "    testt(i)"
   ]
  },
  {
   "cell_type": "markdown",
   "metadata": {},
   "source": [
    "## Xây dựng bộ phân lớp trên tập dữ liệu person_data"
   ]
  },
  {
   "cell_type": "code",
   "execution_count": 20,
   "metadata": {},
   "outputs": [],
   "source": [
    "persons = []\n",
    "with open('person_data.txt', 'r') as fh:\n",
    "    for line in fh:\n",
    "        persons.append(line.strip().split())"
   ]
  },
  {
   "cell_type": "code",
   "execution_count": 21,
   "metadata": {},
   "outputs": [
    {
     "name": "stdout",
     "output_type": "stream",
     "text": [
      "female:\n",
      "['Stephanie', 'Cynthia', 'Katherine', 'Elizabeth', 'Carol', 'Christina', 'Beverly', 'Sharon', 'Denise', 'Rebecca']\n",
      "[149 174 183 138 145 161 179 162 148 196]\n",
      "male:\n",
      "['Randy', 'Jessie', 'David', 'Stephen', 'Jerry', 'Billy', 'Earl', 'Todd', 'Martin', 'Kenneth']\n",
      "[184 175 187 192 204 180 184 174 177 200]\n"
     ]
    }
   ],
   "source": [
    "firstnames = {}\n",
    "heights = {}\n",
    "genders = ['male','female']\n",
    "for gender in genders:\n",
    "    firstnames[gender] = [x[0] for x in persons if x[4]==gender]\n",
    "    heights[gender] = [x[2] for x in persons if x[4]==gender]\n",
    "    heights[gender] = np.array(heights[gender],np.int)\n",
    "    \n",
    "for gender in ('female', 'male'):\n",
    "    print(gender + ':')\n",
    "    print(firstnames[gender][:10])\n",
    "    print(heights[gender][:10])"
   ]
  },
  {
   "cell_type": "code",
   "execution_count": 33,
   "metadata": {},
   "outputs": [],
   "source": [
    "class Feature:\n",
    "    def __init__(self, data, name=None, bin_width=None):\n",
    "        self.name = name\n",
    "        self.bin_width = bin_width\n",
    "        if bin_width:\n",
    "            self.min, self.max = min(data), max(data)\n",
    "            bins = np.arange((self.min // bin_width) * bin_width, (self.max // bin_width) * bin_width, bin_width)\n",
    "            freq, bins = np.histogram(data, bins)\n",
    "            self.freq_dict = dict(zip(bins, freq))\n",
    "            self.freq_sum = sum(freq)\n",
    "        else:\n",
    "            self.freq_dict = dict(Counter(data))\n",
    "            self.freq_sum = sum(self.freq_dict.values())\n",
    "    \n",
    "    def frequency(self, value):\n",
    "        if self .bin_width:\n",
    "            value = (value // self.bin_width) * self.bin_width\n",
    "        if value in self.freq_dict:\n",
    "            return self.freq_dict[value]\n",
    "        else:\n",
    "            return 0"
   ]
  },
  {
   "cell_type": "code",
   "execution_count": null,
   "metadata": {},
   "outputs": [],
   "source": []
  },
  {
   "cell_type": "code",
   "execution_count": 23,
   "metadata": {},
   "outputs": [
    {
     "name": "stdout",
     "output_type": "stream",
     "text": [
      "male {155: 1, 160: 5, 165: 4, 170: 6, 175: 7, 180: 5, 185: 8, 190: 8, 195: 2, 200: 3}\n",
      "female {130: 1, 135: 1, 140: 0, 145: 3, 150: 5, 155: 7, 160: 8, 165: 11, 170: 7, 175: 2, 180: 4, 185: 0}\n"
     ]
    }
   ],
   "source": [
    "fts = {}\n",
    "for gender in genders:\n",
    "    fts[gender] = Feature(heights[gender], name=gender, bin_width=5)\n",
    "    print(gender, fts[gender].freq_dict)"
   ]
  },
  {
   "cell_type": "code",
   "execution_count": 24,
   "metadata": {},
   "outputs": [
    {
     "data": {
      "image/png": "[encoded data removed]",
      "text/plain": [
       "<Figure size 432x288 with 1 Axes>"
      ]
     },
     "metadata": {
      "needs_background": "light"
     },
     "output_type": "display_data"
    }
   ],
   "source": [
    "for gender in genders:\n",
    "    frequencies = list(fts[gender].freq_dict.items())\n",
    "    frequencies.sort(key=lambda x: x[1])\n",
    "    X, Y = zip(*frequencies)\n",
    "    color = 'blue' if gender=='male' else 'red'\n",
    "    bar_width = 4 if gender=='male' else 3\n",
    "    plt.bar(X,Y,bar_width, color=color, alpha=0.75, label=gender)\n",
    "plt.legend(loc='upper right')\n",
    "plt.show()"
   ]
  },
  {
   "cell_type": "code",
   "execution_count": 25,
   "metadata": {},
   "outputs": [],
   "source": [
    "class NBclass:\n",
    "    def __init__(self, name, *features):\n",
    "        self.features = features\n",
    "        self.name = name\n",
    "    \n",
    "    def probability_value_given_feature(self, feature_value, feature):\n",
    "        if feature.freq_sum==0:\n",
    "            return 0\n",
    "        else:\n",
    "            return feature.frequency(feature_value) / feature.freq_sum\n",
    "        "
   ]
  },
  {
   "cell_type": "code",
   "execution_count": 26,
   "metadata": {},
   "outputs": [],
   "source": [
    "cls = {}\n",
    "for gender in genders:\n",
    "    cls[gender] = NBclass(gender, fts[gender])"
   ]
  },
  {
   "cell_type": "code",
   "execution_count": 27,
   "metadata": {},
   "outputs": [],
   "source": [
    "class Classifier:\n",
    "    \n",
    "    def __init__(self, *nbclasses):\n",
    "        self.nbclasses = nbclasses\n",
    "        \n",
    "    def prob(self, *d, best_only=True):\n",
    "        nbclasses = self.nbclasses\n",
    "        probability_list = []\n",
    "        for nbclass in nbclasses:\n",
    "            ftrs = nbclass.features\n",
    "            prob = 1\n",
    "            for i in range(len(ftrs)):\n",
    "                prob *= nbclass.probability_value_given_feature(d[i], ftrs[i])\n",
    "            \n",
    "            probability_list.append((prob, nbclass.name))\n",
    "        prob_values = [f[0] for f in probability_list]\n",
    "        prob_sum = sum(prob_values)\n",
    "        if prob_sum == 0:\n",
    "            number_classes = len(self.nbclasses)\n",
    "            p1 = []\n",
    "            for prob_element in probability_list:\n",
    "                p1.append(((1/number_classes), prob_element[1]))\n",
    "            probability_list = p1\n",
    "        else:\n",
    "            probability_list = [(p[0] / prob_sum, p[1]) for p in probability_list]\n",
    "        if best_only:\n",
    "            return max(probability_list)\n",
    "        else:\n",
    "            return probability_list"
   ]
  },
  {
   "cell_type": "code",
   "execution_count": 40,
   "metadata": {},
   "outputs": [
    {
     "name": "stdout",
     "output_type": "stream",
     "text": [
      "('Maria', 140) [(0.5, 'male'), (0.5, 'female')]\n",
      "('Anthony', 200) [(1.0, 'male'), (0.0, 'female')]\n",
      "('Anthony', 153) [(0.5, 'male'), (0.5, 'female')]\n",
      "('Jessie', 188) [(1.0, 'male'), (0.0, 'female')]\n",
      "('Jessie', 159) [(0.06666666666666667, 'male'), (0.9333333333333333, 'female')]\n",
      "('Jessie', 160) [(0.23809523809523817, 'male'), (0.761904761904762, 'female')]\n"
     ]
    }
   ],
   "source": [
    "fts = {}\n",
    "cls = {}\n",
    "for gender in genders:\n",
    "    fts_heights = Feature(heights[gender], name='heights', bin_width=5)\n",
    "    fts_names = Feature(firstnames[gender], name=gender)\n",
    "    cls[gender] = NBclass(gender, fts_names, fts_heights)\n",
    "    \n",
    "c = Classifier(cls[\"male\"], cls[\"female\"])\n",
    "testnames = ['Edgar', 'Benjamin', 'Fred', 'Albert', 'Laura', 'Maria', 'Paula', 'Sharon', 'Jessie']\n",
    "testSet = [('Maria', 140), ('Anthony', 200), ('Anthony', 153), ('Jessie', 188), ('Jessie', 159), ('Jessie', 160)]\n",
    "for name in testSet:\n",
    "    print(name, c.prob(*name, best_only=False))"
   ]
  },
  {
   "cell_type": "markdown",
   "metadata": {},
   "source": [
    "### The name 'Jessie' is an ambiguous name."
   ]
  },
  {
   "cell_type": "code",
   "execution_count": 35,
   "metadata": {},
   "outputs": [
    {
     "name": "stdout",
     "output_type": "stream",
     "text": [
      "['Jessie', 'Morgan', '175', '67.0', 'male']\n",
      "['Jessie', 'Bell', '165', '65', 'female']\n",
      "['Jessie', 'Washington', '159', '56', 'female']\n",
      "['Jessie', 'Davis', '174', '45', 'female']\n",
      "['Jessie', 'Johnson', '165', '30.0', 'male']\n",
      "['Jessie', 'Thomas', '168', '69', 'female']\n"
     ]
    }
   ],
   "source": [
    "ambiguousJessie = [person for person in persons if person[0]=='Jessie']\n",
    "for i in ambiguousJessie:\n",
    "    print(i)"
   ]
  },
  {
   "cell_type": "code",
   "execution_count": null,
   "metadata": {},
   "outputs": [],
   "source": []
  }
 ],
 "metadata": {
  "kernelspec": {
   "display_name": "Python 3",
   "language": "python",
   "name": "python3"
  },
  "language_info": {
   "codemirror_mode": {
    "name": "ipython",
    "version": 3
   },
   "file_extension": ".py",
   "mimetype": "text/x-python",
   "name": "python",
   "nbconvert_exporter": "python",
   "pygments_lexer": "ipython3",
   "version": "3.8.3"
  }
 },
 "nbformat": 4,
 "nbformat_minor": 4
}
