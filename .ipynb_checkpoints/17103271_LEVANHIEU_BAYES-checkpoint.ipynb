{
 "cells": [
  {
   "cell_type": "code",
   "execution_count": 1,
   "metadata": {},
   "outputs": [],
   "source": [
    "import numpy as np\n",
    "import matplotlib.pyplot as plt\n",
    "from collections import Counter"
   ]
  },
  {
   "cell_type": "code",
   "execution_count": 2,
   "metadata": {},
   "outputs": [],
   "source": [
    "in_time = [(0,27),(1,25),(2,16),(3,19),(4,26),(5,20),(6,19),(7,17),(8,10),(9,5),(10,4),(11,4),(12,2)]\n",
    "cls_late = [(5,3), (6, 5), (7, 8), (8, 15), (9, 17), (10, 18), (11, 19), (12,16), (13, 9), (14, 8), (15, 8)]"
   ]
  },
  {
   "cell_type": "code",
   "execution_count": 27,
   "metadata": {},
   "outputs": [
    {
     "ename": "SyntaxError",
     "evalue": "can't use starred expression here (<ipython-input-27-a49b1b820de8>, line 4)",
     "output_type": "error",
     "traceback": [
      "\u001b[1;36m  File \u001b[1;32m\"<ipython-input-27-a49b1b820de8>\"\u001b[1;36m, line \u001b[1;32m4\u001b[0m\n\u001b[1;33m    hhhh = (*in_time)\u001b[0m\n\u001b[1;37m            ^\u001b[0m\n\u001b[1;31mSyntaxError\u001b[0m\u001b[1;31m:\u001b[0m can't use starred expression here\n"
     ]
    }
   ],
   "source": [
    "# x,y = zip(in_time)\n",
    "# print(x)\n",
    "# print(y)\n",
    "hhhh = (*in_time)"
   ]
  },
  {
   "cell_type": "code",
   "execution_count": 3,
   "metadata": {},
   "outputs": [
    {
     "data": {
      "image/png": "[encoded data removed]",
      "text/plain": [
       "<Figure size 432x288 with 1 Axes>"
      ]
     },
     "metadata": {
      "needs_background": "light"
     },
     "output_type": "display_data"
    }
   ],
   "source": [
    "X, Y = zip(*in_time)\n",
    "X2, Y2 = zip(*cls_late)\n",
    "bar_width = 0.8\n",
    "plt.bar(X, Y, bar_width, color=\"red\", alpha=0.5, label=\"Đúng giờ\")\n",
    "bar_width = 0.8\n",
    "plt.bar(X2, Y2, bar_width, color=\"gray\", alpha=0.5, label=\"Trể\")\n",
    "plt.legend(loc='upper right')\n",
    "plt.show()"
   ]
  },
  {
   "cell_type": "markdown",
   "metadata": {},
   "source": [
    "1. Xây dựng biên phân lớp dựa trên histogram"
   ]
  },
  {
   "cell_type": "code",
   "execution_count": 4,
   "metadata": {},
   "outputs": [
    {
     "name": "stdout",
     "output_type": "stream",
     "text": [
      "0 1.0\n",
      "1 1.0\n",
      "2 1.0\n",
      "3 1.0\n",
      "4 1.0\n",
      "5 0.8695652173913043\n",
      "6 0.7916666666666666\n",
      "7 0.68\n",
      "8 0.4\n",
      "9 0.22727272727272727\n",
      "10 0.18181818181818182\n",
      "11 0.17391304347826086\n",
      "12 0.1111111111111111\n",
      "13 0\n",
      "14 0\n"
     ]
    }
   ],
   "source": [
    "in_time_dict = dict(in_time)\n",
    "too_late_dict = dict(cls_late)\n",
    "def catch_the_train(min):\n",
    "    s = in_time_dict.get(min, 0)\n",
    "    if s == 0:\n",
    "        return 0\n",
    "    else:\n",
    "        m = too_late_dict.get(min, 0)\n",
    "        return s / (s + m)\n",
    "for minutes in range(0, 15):\n",
    "    print(minutes, catch_the_train(minutes))"
   ]
  },
  {
   "cell_type": "code",
   "execution_count": 5,
   "metadata": {},
   "outputs": [
    {
     "data": {
      "text/plain": [
       "[<matplotlib.lines.Line2D at 0x20906ba8220>]"
      ]
     },
     "execution_count": 5,
     "metadata": {},
     "output_type": "execute_result"
    },
    {
     "data": {
      "image/png": "[encoded data removed]",
      "text/plain": [
       "<Figure size 432x288 with 1 Axes>"
      ]
     },
     "metadata": {
      "needs_background": "light"
     },
     "output_type": "display_data"
    }
   ],
   "source": [
    "vi_dat = []\n",
    "for _ in range(0,15):\n",
    "    vi_dat.append(catch_the_train(_))\n",
    "plt.plot(range(0,15),vi_dat)"
   ]
  },
  {
   "cell_type": "code",
   "execution_count": 7,
   "metadata": {},
   "outputs": [],
   "source": [
    "def pre_sum(A):\n",
    "    cur=0\n",
    "    res=np.zeros((len(A)))\n",
    "    for i in range(len(A)):\n",
    "        cur+=A[i]\n",
    "        res[i]=cur\n",
    "    return res\n",
    "\n",
    "def back_sum(A):\n",
    "    cur=0\n",
    "    n=len(A)\n",
    "    res=np.zeros((n))\n",
    "    for i in range(n):\n",
    "        cur+=A[n-i-1]\n",
    "        res[n-i-1]=cur\n",
    "    return res"
   ]
  },
  {
   "cell_type": "code",
   "execution_count": 8,
   "metadata": {},
   "outputs": [
    {
     "data": {
      "text/plain": [
       "array([1.        , 2.        , 3.        , 4.        , 5.        ,\n",
       "       5.86956522, 6.66123188, 7.34123188, 7.74123188, 7.96850461,\n",
       "       8.15032279, 8.32423584, 8.43534695, 8.43534695, 8.43534695])"
      ]
     },
     "execution_count": 8,
     "metadata": {},
     "output_type": "execute_result"
    }
   ],
   "source": [
    "pre_sum(vi_dat)"
   ]
  },
  {
   "cell_type": "code",
   "execution_count": 9,
   "metadata": {},
   "outputs": [
    {
     "data": {
      "text/plain": [
       "array([8.43534695, 7.43534695, 6.43534695, 5.43534695, 4.43534695,\n",
       "       3.43534695, 2.56578173, 1.77411506, 1.09411506, 0.69411506,\n",
       "       0.46684234, 0.28502415, 0.11111111, 0.        , 0.        ])"
      ]
     },
     "execution_count": 9,
     "metadata": {},
     "output_type": "execute_result"
    }
   ],
   "source": [
    "back_sum(vi_dat)"
   ]
  },
  {
   "cell_type": "code",
   "execution_count": 10,
   "metadata": {},
   "outputs": [],
   "source": [
    "vi_dat = np.array(vi_dat)\n",
    "def find_thresh_holding(A,B):\n",
    "    sumA = np.sum(A)\n",
    "    sumB = np.sum(B)\n",
    "    AA = back_sum(A)\n",
    "    BB = pre_sum(B)\n",
    "    C = np.zeros((len(A)))\n",
    "    print(C)\n",
    "    for i in range(len(A)-1):\n",
    "        C[i] = (sumA-AA[i+1]+sumB-BB[i])\n",
    "    for i in range(len(A)-1):\n",
    "        if(C[i+1]<C[i]):\n",
    "            return [i,C[i]]"
   ]
  },
  {
   "cell_type": "code",
   "execution_count": 11,
   "metadata": {},
   "outputs": [
    {
     "name": "stdout",
     "output_type": "stream",
     "text": [
      "[0. 0. 0. 0. 0. 0. 0. 0. 0. 0. 0. 0. 0. 0. 0.]\n"
     ]
    }
   ],
   "source": [
    "thresh,__ = find_thresh_holding(vi_dat,1-vi_dat)"
   ]
  },
  {
   "cell_type": "code",
   "execution_count": 12,
   "metadata": {},
   "outputs": [],
   "source": [
    "def testt(a):\n",
    "    if a>thresh:\n",
    "        print('Ket qua luc 6:{} la tre'.format(30+a))\n",
    "    else:\n",
    "        print('Ket qua luc 6:{} la dung gio'.format(30+a))"
   ]
  },
  {
   "cell_type": "code",
   "execution_count": 13,
   "metadata": {},
   "outputs": [
    {
     "name": "stdout",
     "output_type": "stream",
     "text": [
      "Ket qua luc 6:34 la dung gio\n",
      "Ket qua luc 6:35 la dung gio\n",
      "Ket qua luc 6:36 la dung gio\n",
      "Ket qua luc 6:37 la dung gio\n",
      "Ket qua luc 6:38 la tre\n"
     ]
    }
   ],
   "source": [
    "test = [4,5,6,7,8]\n",
    "for i in test:\n",
    "    testt(i)"
   ]
  },
  {
   "cell_type": "markdown",
   "metadata": {},
   "source": [
    "## Xây dựng bộ phân lớp trên tập dữ liệu person_data"
   ]
  },
  {
   "cell_type": "code",
   "execution_count": 20,
   "metadata": {},
   "outputs": [],
   "source": [
    "persons = []\n",
    "with open('person_data.txt', 'r') as fh:\n",
    "    for line in fh:\n",
    "        persons.append(line.strip().split())"
   ]
  },
  {
   "cell_type": "code",
   "execution_count": 21,
   "metadata": {},
   "outputs": [
    {
     "name": "stdout",
     "output_type": "stream",
     "text": [
      "female:\n",
      "['Stephanie', 'Cynthia', 'Katherine', 'Elizabeth', 'Carol', 'Christina', 'Beverly', 'Sharon', 'Denise', 'Rebecca']\n",
      "[149 174 183 138 145 161 179 162 148 196]\n",
      "male:\n",
      "['Randy', 'Jessie', 'David', 'Stephen', 'Jerry', 'Billy', 'Earl', 'Todd', 'Martin', 'Kenneth']\n",
      "[184 175 187 192 204 180 184 174 177 200]\n"
     ]
    }
   ],
   "source": [
    "firstnames = {}\n",
    "heights = {}\n",
    "genders = ['male','female']\n",
    "for gender in genders:\n",
    "    firstnames[gender] = [x[0] for x in persons if x[4]==gender]\n",
    "    heights[gender] = [x[2] for x in persons if x[4]==gender]\n",
    "    heights[gender] = np.array(heights[gender],np.int)\n",
    "    \n",
    "for gender in ('female', 'male'):\n",
    "    print(gender + ':')\n",
    "    print(firstnames[gender][:10])\n",
    "    print(heights[gender][:10])"
   ]
  },
  {
   "cell_type": "code",
   "execution_count": 33,
   "metadata": {},
   "outputs": [],
   "source": [
    "class Feature:\n",
    "    def __init__(self, data, name=None, bin_width=None):\n",
    "        self.name = name\n",
    "        self.bin_width = bin_width\n",
    "        if bin_width:\n",
    "            self.min, self.max = min(data), max(data)\n",
    "            bins = np.arange((self.min // bin_width) * bin_width, (self.max // bin_width) * bin_width, bin_width)\n",
    "            freq, bins = np.histogram(data, bins)\n",
    "            self.freq_dict = dict(zip(bins, freq))\n",
    "            self.freq_sum = sum(freq)\n",
    "        else:\n",
    "            self.freq_dict = dict(Counter(data))\n",
    "            self.freq_sum = sum(self.freq_dict.values())\n",
    "    \n",
    "    def frequency(self, value):\n",
    "        if self .bin_width:\n",
    "            value = (value // self.bin_width) * self.bin_width\n",
    "        if value in self.freq_dict:\n",
    "            return self.freq_dict[value]\n",
    "        else:\n",
    "            return 0"
   ]
  },
  {
   "cell_type": "code",
   "execution_count": null,
   "metadata": {},
   "outputs": [],
   "source": []
  },
  {
   "cell_type": "code",
   "execution_count": 23,
   "metadata": {},
   "outputs": [
    {
     "name": "stdout",
     "output_type": "stream",
     "text": [
      "male {155: 1, 160: 5, 165: 4, 170: 6, 175: 7, 180: 5, 185: 8, 190: 8, 195: 2, 200: 3}\n",
      "female {130: 1, 135: 1, 140: 0, 145: 3, 150: 5, 155: 7, 160: 8, 165: 11, 170: 7, 175: 2, 180: 4, 185: 0}\n"
     ]
    }
   ],
   "source": [
    "fts = {}\n",
    "for gender in genders:\n",
    "    fts[gender] = Feature(heights[gender], name=gender, bin_width=5)\n",
    "    print(gender, fts[gender].freq_dict)"
   ]
  },
  {
   "cell_type": "code",
   "execution_count": 24,
   "metadata": {},
   "outputs": [
    {
     "data": {
      "image/png": "[encoded data removed]",
      "text/plain": [
       "<Figure size 432x288 with 1 Axes>"
      ]
     },
     "metadata": {
      "needs_background": "light"
     },
     "output_type": "display_data"
    }
   ],
   "source": [
    "for gender in genders:\n",
    "    frequencies = list(fts[gender].freq_dict.items())\n",
    "    frequencies.sort(key=lambda x: x[1])\n",
    "    X, Y = zip(*frequencies)\n",
    "    color = 'blue' if gender=='male' else 'red'\n",
    "    bar_width = 4 if gender=='male' else 3\n",
    "    plt.bar(X,Y,bar_width, color=color, alpha=0.75, label=gender)\n",
    "plt.legend(loc='upper right')\n",
    "plt.show()"
   ]
  },
  {
   "cell_type": "code",
   "execution_count": 25,
   "metadata": {},
   "outputs": [],
   "source": [
    "class NBclass:\n",
    "    def __init__(self, name, *features):\n",
    "        self.features = features\n",
    "        self.name = name\n",
    "    \n",
    "    def probability_value_given_feature(self, feature_value, feature):\n",
    "        if feature.freq_sum==0:\n",
    "            return 0\n",
    "        else:\n",
    "            return feature.frequency(feature_value) / feature.freq_sum\n",
    "        "
   ]
  },
  {
   "cell_type": "code",
   "execution_count": 26,
   "metadata": {},
   "outputs": [],
   "source": [
    "cls = {}\n",
    "for gender in genders:\n",
    "    cls[gender] = NBclass(gender, fts[gender])"
   ]
  },
  {
   "cell_type": "code",
   "execution_count": 27,
   "metadata": {},
   "outputs": [],
   "source": [
    "class Classifier:\n",
    "    \n",
    "    def __init__(self, *nbclasses):\n",
    "        self.nbclasses = nbclasses\n",
    "        \n",
    "    def prob(self, *d, best_only=True):\n",
    "        nbclasses = self.nbclasses\n",
    "        probability_list = []\n",
    "        for nbclass in nbclasses:\n",
    "            ftrs = nbclass.features\n",
    "            prob = 1\n",
    "            for i in range(len(ftrs)):\n",
    "                prob *= nbclass.probability_value_given_feature(d[i], ftrs[i])\n",
    "            \n",
    "            probability_list.append((prob, nbclass.name))\n",
    "        prob_values = [f[0] for f in probability_list]\n",
    "        prob_sum = sum(prob_values)\n",
    "        if prob_sum == 0:\n",
    "            number_classes = len(self.nbclasses)\n",
    "            p1 = []\n",
    "            for prob_element in probability_list:\n",
    "                p1.append(((1/number_classes), prob_element[1]))\n",
    "            probability_list = p1\n",
    "        else:\n",
    "            probability_list = [(p[0] / prob_sum, p[1]) for p in probability_list]\n",
    "        if best_only:\n",
    "            return max(probability_list)\n",
    "        else:\n",
    "            return probability_list"
   ]
  },
  {
   "cell_type": "code",
   "execution_count": 40,
   "metadata": {},
   "outputs": [
    {
     "name": "stdout",
     "output_type": "stream",
     "text": [
      "('Maria', 140) [(0.5, 'male'), (0.5, 'female')]\n",
      "('Anthony', 200) [(1.0, 'male'), (0.0, 'female')]\n",
      "('Anthony', 153) [(0.5, 'male'), (0.5, 'female')]\n",
      "('Jessie', 188) [(1.0, 'male'), (0.0, 'female')]\n",
      "('Jessie', 159) [(0.06666666666666667, 'male'), (0.9333333333333333, 'female')]\n",
      "('Jessie', 160) [(0.23809523809523817, 'male'), (0.761904761904762, 'female')]\n"
     ]
    }
   ],
   "source": [
    "fts = {}\n",
    "cls = {}\n",
    "for gender in genders:\n",
    "    fts_heights = Feature(heights[gender], name='heights', bin_width=5)\n",
    "    fts_names = Feature(firstnames[gender], name=gender)\n",
    "    cls[gender] = NBclass(gender, fts_names, fts_heights)\n",
    "    \n",
    "c = Classifier(cls[\"male\"], cls[\"female\"])\n",
    "testnames = ['Edgar', 'Benjamin', 'Fred', 'Albert', 'Laura', 'Maria', 'Paula', 'Sharon', 'Jessie']\n",
    "testSet = [('Maria', 140), ('Anthony', 200), ('Anthony', 153), ('Jessie', 188), ('Jessie', 159), ('Jessie', 160)]\n",
    "for name in testSet:\n",
    "    print(name, c.prob(*name, best_only=False))"
   ]
  },
  {
   "cell_type": "markdown",
   "metadata": {},
   "source": [
    "### The name 'Jessie' is an ambiguous name."
   ]
  },
  {
   "cell_type": "code",
   "execution_count": 35,
   "metadata": {},
   "outputs": [
    {
     "name": "stdout",
     "output_type": "stream",
     "text": [
      "['Jessie', 'Morgan', '175', '67.0', 'male']\n",
      "['Jessie', 'Bell', '165', '65', 'female']\n",
      "['Jessie', 'Washington', '159', '56', 'female']\n",
      "['Jessie', 'Davis', '174', '45', 'female']\n",
      "['Jessie', 'Johnson', '165', '30.0', 'male']\n",
      "['Jessie', 'Thomas', '168', '69', 'female']\n"
     ]
    }
   ],
   "source": [
    "ambiguousJessie = [person for person in persons if person[0]=='Jessie']\n",
    "for i in ambiguousJessie:\n",
    "    print(i)"
   ]
  },
  {
   "cell_type": "markdown",
   "metadata": {},
   "source": [
    "  **3. Tính mean và variance của các vector đặc trưng sau:**\n",
    "\n",
    "*   List item\n",
    "*   List item\n",
    "\n",
    "\n",
    "  \n",
    "    a. [1 2 4 6 9 10 20 7]\n",
    "    b. [0 2 4 6 8 … 100]; tất cả các số chẳn từ 0 đến 100.\n",
    "    c. [1 3 25 … 9801]; tất cả bình phương các số lẻ từ 1 đến 100.\n",
    "    d. [[2,4], [3,7], [4,6], [5,5], [2,3]]"
   ]
  },
  {
   "cell_type": "code",
   "execution_count": 1,
   "metadata": {},
   "outputs": [],
   "source": [
    "def mean(x):\n",
    "  s = 0\n",
    "  for i in x:\n",
    "    s += i\n",
    "  return s/len(x)\n",
    "\n",
    "def variance(x):\n",
    "  mu = mean(x)\n",
    "  s = 0\n",
    "  for i in x:\n",
    "    s += (i - mu)**2\n",
    "  return s/len(x)"
   ]
  },
  {
   "cell_type": "code",
   "execution_count": 2,
   "metadata": {},
   "outputs": [
    {
     "name": "stdout",
     "output_type": "stream",
     "text": [
      "Trung bình của a là:\n",
      "6.888888888888889\n",
      "Variance của a là:\n",
      "29.876543209876544\n"
     ]
    }
   ],
   "source": [
    "import numpy as np\n",
    "\n",
    "a = [1,2,3,4,6,9,10,20,7]\n",
    "\n",
    "print(\"Trung bình của a là:\")\n",
    "print(mean(a))\n",
    "print(\"Variance của a là:\")\n",
    "print(variance(a))"
   ]
  },
  {
   "cell_type": "code",
   "execution_count": 3,
   "metadata": {},
   "outputs": [
    {
     "name": "stdout",
     "output_type": "stream",
     "text": [
      "Trung bình của b là:\n",
      "50.0\n",
      "Variance của b là:\n",
      "850.0\n"
     ]
    }
   ],
   "source": [
    "b = list(range(101))\n",
    "print(\"Trung bình của b là:\")\n",
    "print(mean(b))\n",
    "print(\"Variance của b là:\")\n",
    "print(variance(b))"
   ]
  },
  {
   "cell_type": "code",
   "execution_count": 4,
   "metadata": {},
   "outputs": [
    {
     "name": "stdout",
     "output_type": "stream",
     "text": [
      "Trung bình của c là:\n",
      "3333.0\n",
      "Variance của c là:\n",
      "8884444.8\n"
     ]
    }
   ],
   "source": [
    "c = list(range(1, 101, 2))\n",
    "def power(my_list):\n",
    "    return [ x**2 for x in my_list ]\n",
    "c = power(c)\n",
    "print(\"Trung bình của c là:\")\n",
    "print(mean(c))\n",
    "print(\"Variance của c là:\")\n",
    "print(variance(c))"
   ]
  },
  {
   "cell_type": "code",
   "execution_count": 5,
   "metadata": {},
   "outputs": [
    {
     "name": "stdout",
     "output_type": "stream",
     "text": [
      "Trung bình của d là:\n",
      "[3.2 5. ]\n",
      "Variance của d là:\n",
      "[1.36 2.  ]\n"
     ]
    }
   ],
   "source": [
    "d = [[2,4], [3,7], [4,6], [5,5], [2,3]]\n",
    "print(\"Trung bình của d là:\")\n",
    "print(np.average(d, axis=0))\n",
    "print(\"Variance của d là:\")\n",
    "print(np.var(d, axis=0))"
   ]
  },
  {
   "cell_type": "markdown",
   "metadata": {},
   "source": [
    "**4. Tính covariance matrix của các vector đặc trưng sau:**\n",
    "\n",
    "1.   List item\n",
    "2.   List item\n",
    "\n",
    "\n",
    "X=[2 3 6 3 7 8] và Y=[5 7 9 6 7 8]."
   ]
  },
  {
   "cell_type": "code",
   "execution_count": 6,
   "metadata": {},
   "outputs": [
    {
     "name": "stdout",
     "output_type": "stream",
     "text": [
      "Gộp 2 ma trận:\n",
      "[[2, 3, 6, 3, 7, 8], [5, 7, 9, 6, 7, 8]]\n"
     ]
    }
   ],
   "source": [
    "X = [2, 3, 6, 3, 7, 8]\n",
    "Y = [5, 7, 9, 6, 7, 8]\n",
    "matrix_1 = [X, Y]\n",
    "print(\"Gộp 2 ma trận:\")\n",
    "print(matrix_1)"
   ]
  },
  {
   "cell_type": "code",
   "execution_count": 7,
   "metadata": {},
   "outputs": [
    {
     "name": "stdout",
     "output_type": "stream",
     "text": [
      "Tính trung bình ma trận:\n",
      "[4.833333333333333, 7.0]\n"
     ]
    }
   ],
   "source": [
    "print(\"Tính trung bình ma trận:\")\n",
    "avg_matrix = [sum(matrix_1[0])/len(matrix_1[0]), sum(matrix_1[1])/len(matrix_1[1])]\n",
    "print(avg_matrix)"
   ]
  },
  {
   "cell_type": "code",
   "execution_count": 8,
   "metadata": {},
   "outputs": [
    {
     "name": "stdout",
     "output_type": "stream",
     "text": [
      "Hiệu ma trận ban đầu với trung bình:\n",
      "[[-2.833333333333333, -1.833333333333333, 1.166666666666667, -1.833333333333333, 2.166666666666667, 3.166666666666667], [-2.0, 0.0, 2.0, -1.0, 0.0, 1.0]]\n"
     ]
    }
   ],
   "source": [
    "print(\"Hiệu ma trận ban đầu với trung bình:\")\n",
    "matrix_2 = []\n",
    "for i in range(len(matrix_1)):\n",
    "  line = []\n",
    "  for j in range(len(matrix_1[i])):\n",
    "    line.append(matrix_1[i][j] - avg_matrix[i])\n",
    "  matrix_2.append(line)\n",
    "print(matrix_2)"
   ]
  },
  {
   "cell_type": "code",
   "execution_count": 9,
   "metadata": {},
   "outputs": [],
   "source": [
    "matrix_2 = np.asarray(matrix_2)"
   ]
  },
  {
   "cell_type": "code",
   "execution_count": 10,
   "metadata": {},
   "outputs": [
    {
     "name": "stdout",
     "output_type": "stream",
     "text": [
      "Ma trận hiệp phương sai với N = 6\n",
      "[[6.16666667 2.6       ]\n",
      " [2.6        2.        ]]\n"
     ]
    }
   ],
   "source": [
    "N = 6\n",
    "print(\"Ma trận hiệp phương sai với N = \" + str(N))\n",
    "print((1/(N-1))*np.dot(matrix_2, matrix_2.T))"
   ]
  },
  {
   "cell_type": "markdown",
   "metadata": {},
   "source": [
    "**5. Tạo hàm mật độ của phân bố Gauss với mean là 5 và variance là 3. Plot hàm kết quả.**"
   ]
  },
  {
   "cell_type": "code",
   "execution_count": 11,
   "metadata": {},
   "outputs": [],
   "source": [
    "def gauss(x, mean, variance):\n",
    "  return (1/(math.sqrt(2*math.pi*variance)))*math.exp((-1/2)*((x-mean)/variance)**2)"
   ]
  },
  {
   "cell_type": "code",
   "execution_count": 12,
   "metadata": {},
   "outputs": [
    {
     "data": {
      "image/png": "[encoded data removed]",
      "text/plain": [
       "<Figure size 432x288 with 1 Axes>"
      ]
     },
     "metadata": {
      "needs_background": "light"
     },
     "output_type": "display_data"
    }
   ],
   "source": [
    "import numpy as np\n",
    "import matplotlib.pyplot as plt\n",
    "import math\n",
    "\n",
    "mean = 5\n",
    "variance = 3\n",
    "list_x = np.arange(0, 10, 0.01)\n",
    "list_y = []\n",
    "for x in list_x:\n",
    "  list_y.append(gauss(x, mean, variance))\n",
    "plt.plot(list_x, list_y)\n",
    "plt.title(r\"Gaussian ($\\sigma$=\"+ str(variance) + \", $\\mu$=\" + str(mean) + \")\")\n",
    "plt.ylabel(\"Amplitude\")\n",
    "plt.xlabel(\"Sample\")\n",
    "plt.show()"
   ]
  },
  {
   "cell_type": "markdown",
   "metadata": {},
   "source": [
    "**6. Tạo hàm mật độ của phân bố Gauss khác với mean là 2 và variance là 1.5. Plot hàm này trong cùng cửa sổ với hàm được tạo ra ở câu 3. Cho nhận xét.**"
   ]
  },
  {
   "cell_type": "code",
   "execution_count": 13,
   "metadata": {},
   "outputs": [
    {
     "data": {
      "image/png": "[encoded data removed]",
      "text/plain": [
       "<Figure size 432x288 with 1 Axes>"
      ]
     },
     "metadata": {
      "needs_background": "light"
     },
     "output_type": "display_data"
    }
   ],
   "source": [
    "mean = 2\n",
    "variance = 1.5\n",
    "list_x = np.arange(0, 10, 0.01)\n",
    "list_y = []\n",
    "for x in list_x:\n",
    "  list_y.append(gauss(x, mean, variance))\n",
    "plt.plot(list_x, list_y)\n",
    "plt.title(r\"Gaussian ($\\sigma$=\"+ str(variance) + \", $\\mu$=\" + str(mean) + \")\")\n",
    "plt.ylabel(\"Amplitude\")\n",
    "plt.xlabel(\"Sample\")\n",
    "plt.show()"
   ]
  },
  {
   "cell_type": "markdown",
   "metadata": {},
   "source": [
    "Nhận xét: biểu đồ bị lệch sang trái so với biểu đồ có mean = 3 và variance = 5"
   ]
  },
  {
   "cell_type": "markdown",
   "metadata": {},
   "source": [
    "**7. Tạo hàm mật độ phân bố Gauss 2 chiều với mean [1 3] và variance [2 2]. Plot hàm này trên lưới [-10 10] x [-10 10] và tính khoảng cách Mahalanobis đối với các mẫu [0 0], [3 4], và [1 2].**"
   ]
  },
  {
   "cell_type": "code",
   "execution_count": 16,
   "metadata": {},
   "outputs": [
    {
     "data": {
      "image/png": "[encoded data removed]",
      "text/plain": [
       "<Figure size 432x288 with 1 Axes>"
      ]
     },
     "metadata": {
      "needs_background": "light"
     },
     "output_type": "display_data"
    }
   ],
   "source": [
    "import numpy as np\n",
    "\n",
    "def gaus2d(x=0, y=0, mx=0, my=0, sx=1, sy=1):\n",
    "    return 1. / (2. * np.pi * sx * sy) * np.exp(-((x - mx)**2. / (2. * sx**2.) + (y - my)**2. / (2. * sy**2.)))\n",
    "\n",
    "x = np.linspace(-10, 10)\n",
    "y = np.linspace(-10, 10)\n",
    "x, y = np.meshgrid(x, y)\n",
    "z = gaus2d(x, y, 1, 3, 2, 2)\n",
    "plt.contourf(x,y,z)\n",
    "plt.show()"
   ]
  },
  {
   "cell_type": "code",
   "execution_count": 17,
   "metadata": {},
   "outputs": [
    {
     "name": "stdout",
     "output_type": "stream",
     "text": [
      "Khoảng cách mahalanobis của điểm [0,0]:\n",
      "[[0. 0.]\n",
      " [0. 0.]]\n",
      "\n",
      "Khoảng cách mahalanobis của điểm [3,4]:\n",
      "[[0.24855543 0.33140724]\n",
      " [0.33140724 0.44187632]]\n",
      "\n",
      "Khoảng cách mahalanobis của điểm [1,2]:\n",
      "[[0.02761727 0.05523454]\n",
      " [0.05523454 0.11046908]]\n",
      "\n"
     ]
    }
   ],
   "source": [
    "sample_1 = [0,0]\n",
    "list_x1 = []\n",
    "for i in range(50):\n",
    "  list_x1.append(sample_1)\n",
    "m1 = np.asarray(list_x1)\n",
    "print(\"Khoảng cách mahalanobis của điểm [0,0]:\")\n",
    "print(np.dot(np.dot(m1.T,np.cov(z)), m1))\n",
    "print()\n",
    "\n",
    "sample_1 = [3,4]\n",
    "list_x1 = []\n",
    "for i in range(50):\n",
    "  list_x1.append(sample_1)\n",
    "m1 = np.asarray(list_x1)\n",
    "print(\"Khoảng cách mahalanobis của điểm [3,4]:\")\n",
    "print(np.dot(np.dot(m1.T,np.cov(z)), m1))\n",
    "print()\n",
    "\n",
    "sample_1 = [1,2]\n",
    "list_x1 = []\n",
    "for i in range(50):\n",
    "  list_x1.append(sample_1)\n",
    "m1 = np.asarray(list_x1)\n",
    "print(\"Khoảng cách mahalanobis của điểm [1,2]:\")\n",
    "print(np.dot(np.dot(m1.T,np.cov(z)), m1))\n",
    "print()"
   ]
  },
  {
   "cell_type": "markdown",
   "metadata": {},
   "source": [
    "  **8. Xây dựng bộ classifier sử dụng 1 đặc trưng có sẳn.**\n",
    "\n",
    "*   List item\n",
    "*   List item\n",
    "\n",
    "\n",
    "\n",
    "▪ Load data:\n",
    "\n",
    "    ◦ Load 2 file tương ứng cho 2 class là: class1.txt và class2.txt.\n",
    "    ◦ Cho biết số mẫu và số đặc trưng của mỗi class.\n",
    "    ◦ Tính mean, variance, và covariance của các vector đặc trưng.\n",
    "    ◦ Trích chọn 1 đặc trưng. "
   ]
  },
  {
   "cell_type": "code",
   "execution_count": 24,
   "metadata": {},
   "outputs": [],
   "source": [
    "def covariance(x):\n",
    "  N = len(x)\n",
    "  TB = mean(x)\n",
    "  M = []\n",
    "  for i in x:\n",
    "    M.append(i - TB)\n",
    "  D = np.asarray(M)\n",
    "  return  (1/(N-1))*D*D.T"
   ]
  },
  {
   "cell_type": "code",
   "execution_count": 26,
   "metadata": {},
   "outputs": [
    {
     "name": "stdout",
     "output_type": "stream",
     "text": [
      "Số mẫu là: 242\n",
      "Số đặc trưng của mỗi class là: 4\n"
     ]
    },
    {
     "ename": "TypeError",
     "evalue": "'int' object is not callable",
     "output_type": "error",
     "traceback": [
      "\u001b[1;31m---------------------------------------------------------------------------\u001b[0m",
      "\u001b[1;31mTypeError\u001b[0m                                 Traceback (most recent call last)",
      "\u001b[1;32m<ipython-input-26-c9f06469f2c9>\u001b[0m in \u001b[0;36m<module>\u001b[1;34m\u001b[0m\n\u001b[0;32m      3\u001b[0m \u001b[0mprint\u001b[0m\u001b[1;33m(\u001b[0m\u001b[1;34m\"Số đặc trưng của mỗi class là: \"\u001b[0m \u001b[1;33m+\u001b[0m \u001b[0mstr\u001b[0m\u001b[1;33m(\u001b[0m\u001b[0mlen\u001b[0m\u001b[1;33m(\u001b[0m\u001b[0mdatContent\u001b[0m\u001b[1;33m[\u001b[0m\u001b[1;36m0\u001b[0m\u001b[1;33m]\u001b[0m\u001b[1;33m[\u001b[0m\u001b[1;33m:\u001b[0m\u001b[1;33m-\u001b[0m\u001b[1;36m2\u001b[0m\u001b[1;33m]\u001b[0m\u001b[1;33m)\u001b[0m\u001b[1;33m)\u001b[0m\u001b[1;33m)\u001b[0m\u001b[1;33m\u001b[0m\u001b[1;33m\u001b[0m\u001b[0m\n\u001b[0;32m      4\u001b[0m \u001b[1;32mfor\u001b[0m \u001b[0mi\u001b[0m \u001b[1;32min\u001b[0m \u001b[0mrange\u001b[0m\u001b[1;33m(\u001b[0m\u001b[0mlen\u001b[0m\u001b[1;33m(\u001b[0m\u001b[0mdatContent\u001b[0m\u001b[1;33m[\u001b[0m\u001b[1;36m0\u001b[0m\u001b[1;33m]\u001b[0m\u001b[1;33m[\u001b[0m\u001b[1;33m:\u001b[0m\u001b[1;33m-\u001b[0m\u001b[1;36m2\u001b[0m\u001b[1;33m]\u001b[0m\u001b[1;33m)\u001b[0m\u001b[1;33m)\u001b[0m\u001b[1;33m:\u001b[0m\u001b[1;33m\u001b[0m\u001b[1;33m\u001b[0m\u001b[0m\n\u001b[1;32m----> 5\u001b[1;33m   \u001b[0mprint\u001b[0m\u001b[1;33m(\u001b[0m\u001b[1;34m\"Trung bình của đặc trưng \"\u001b[0m \u001b[1;33m+\u001b[0m \u001b[0mstr\u001b[0m\u001b[1;33m(\u001b[0m\u001b[0mi\u001b[0m\u001b[1;33m+\u001b[0m\u001b[1;36m1\u001b[0m\u001b[1;33m)\u001b[0m \u001b[1;33m+\u001b[0m \u001b[1;34m\" là: \"\u001b[0m \u001b[1;33m+\u001b[0m \u001b[0mstr\u001b[0m\u001b[1;33m(\u001b[0m\u001b[0mmean\u001b[0m\u001b[1;33m(\u001b[0m\u001b[1;33m[\u001b[0m\u001b[0mfloat\u001b[0m\u001b[1;33m(\u001b[0m\u001b[0mrow\u001b[0m\u001b[1;33m[\u001b[0m\u001b[0mi\u001b[0m\u001b[1;33m]\u001b[0m\u001b[1;33m)\u001b[0m \u001b[1;32mfor\u001b[0m \u001b[0mrow\u001b[0m \u001b[1;32min\u001b[0m \u001b[0mdatContent\u001b[0m\u001b[1;33m]\u001b[0m\u001b[1;33m)\u001b[0m\u001b[1;33m)\u001b[0m\u001b[1;33m)\u001b[0m\u001b[1;33m\u001b[0m\u001b[1;33m\u001b[0m\u001b[0m\n\u001b[0m\u001b[0;32m      6\u001b[0m   \u001b[0mprint\u001b[0m\u001b[1;33m(\u001b[0m\u001b[1;34m\"Phương sai của đặc trưng \"\u001b[0m \u001b[1;33m+\u001b[0m \u001b[0mstr\u001b[0m\u001b[1;33m(\u001b[0m\u001b[0mi\u001b[0m\u001b[1;33m+\u001b[0m\u001b[1;36m1\u001b[0m\u001b[1;33m)\u001b[0m \u001b[1;33m+\u001b[0m \u001b[1;34m\" là: \"\u001b[0m \u001b[1;33m+\u001b[0m \u001b[0mstr\u001b[0m\u001b[1;33m(\u001b[0m\u001b[0mvariance\u001b[0m\u001b[1;33m(\u001b[0m\u001b[1;33m[\u001b[0m\u001b[0mfloat\u001b[0m\u001b[1;33m(\u001b[0m\u001b[0mrow\u001b[0m\u001b[1;33m[\u001b[0m\u001b[0mi\u001b[0m\u001b[1;33m]\u001b[0m\u001b[1;33m)\u001b[0m \u001b[1;32mfor\u001b[0m \u001b[0mrow\u001b[0m \u001b[1;32min\u001b[0m \u001b[0mdatContent\u001b[0m\u001b[1;33m]\u001b[0m\u001b[1;33m)\u001b[0m\u001b[1;33m)\u001b[0m\u001b[1;33m)\u001b[0m\u001b[1;33m\u001b[0m\u001b[1;33m\u001b[0m\u001b[0m\n\u001b[0;32m      7\u001b[0m   \u001b[0mprint\u001b[0m\u001b[1;33m(\u001b[0m\u001b[1;34m\"Hiệp phương sai của đặc trưng \"\u001b[0m \u001b[1;33m+\u001b[0m \u001b[0mstr\u001b[0m\u001b[1;33m(\u001b[0m\u001b[0mi\u001b[0m\u001b[1;33m+\u001b[0m\u001b[1;36m1\u001b[0m\u001b[1;33m)\u001b[0m \u001b[1;33m+\u001b[0m \u001b[1;34m\" là: \"\u001b[0m \u001b[1;33m+\u001b[0m \u001b[0mstr\u001b[0m\u001b[1;33m(\u001b[0m\u001b[0mnp\u001b[0m\u001b[1;33m.\u001b[0m\u001b[0mcov\u001b[0m\u001b[1;33m(\u001b[0m\u001b[1;33m[\u001b[0m\u001b[0mfloat\u001b[0m\u001b[1;33m(\u001b[0m\u001b[0mrow\u001b[0m\u001b[1;33m[\u001b[0m\u001b[0mi\u001b[0m\u001b[1;33m]\u001b[0m\u001b[1;33m)\u001b[0m \u001b[1;32mfor\u001b[0m \u001b[0mrow\u001b[0m \u001b[1;32min\u001b[0m \u001b[0mdatContent\u001b[0m\u001b[1;33m]\u001b[0m\u001b[1;33m)\u001b[0m\u001b[1;33m)\u001b[0m\u001b[1;33m)\u001b[0m\u001b[1;33m\u001b[0m\u001b[1;33m\u001b[0m\u001b[0m\n",
      "\u001b[1;31mTypeError\u001b[0m: 'int' object is not callable"
     ]
    }
   ],
   "source": [
    "datContent = [i.strip().split() for i in open(\"twoclass.dat\", \"r\").readlines()]\n",
    "print(\"Số mẫu là: \" + str(len(datContent)))\n",
    "print(\"Số đặc trưng của mỗi class là: \" + str(len(datContent[0][:-2])))\n",
    "for i in range(len(datContent[0][:-2])):\n",
    "  print(\"Trung bình của đặc trưng \" + str(i+1) + \" là: \" + str(mean([float(row[i]) for row in datContent])))\n",
    "  print(\"Phương sai của đặc trưng \" + str(i+1) + \" là: \" + str(variance([float(row[i]) for row in datContent])))\n",
    "  print(\"Hiệp phương sai của đặc trưng \" + str(i+1) + \" là: \" + str(np.cov([float(row[i]) for row in datContent])))\n",
    "  print()\n",
    "# Chọn đặc trưng 1\n",
    "feature_1 = [float(row[0]) for row in datContent]\n",
    "feature_2 = [float(row[1]) for row in datContent]\n",
    "feature_3 = [float(row[2]) for row in datContent]\n",
    "feature_4 = [float(row[3]) for row in datContent]\n",
    "class_1 = [int(row[4]) for row in datContent]\n",
    "\n",
    "# Tạo list index\n",
    "idx = np.arange(0, len(feature_1))\n",
    "# Ranđom lại list index\n",
    "np.random.shuffle(idx)\n",
    "# Lấy ra phân nửa list index đã random\n",
    "idx_train = idx[:len(feature_1)//2]\n",
    "idx_test = idx[len(feature_1)//2:]\n",
    "\n",
    "# Tách tập train\n",
    "feature_1_train = [feature_1[i] for i in idx_train]\n",
    "feature_2_train = [feature_2[i] for i in idx_train]\n",
    "feature_3_train = [feature_3[i] for i in idx_train]\n",
    "feature_4_train = [feature_4[i] for i in idx_train]\n",
    "\n",
    "class_train = [class_1[i] for i in idx_train]\n",
    "\n",
    "# Tách tập test\n",
    "feature_1_test = [feature_1[i] for i in idx_test]\n",
    "feature_2_test = [feature_2[i] for i in idx_test]\n",
    "feature_3_test = [feature_3[i] for i in idx_test]\n",
    "feature_4_test = [feature_4[i] for i in idx_test]\n",
    "\n",
    "class_test = [class_1[i] for i in idx_test]"
   ]
  },
  {
   "cell_type": "code",
   "execution_count": null,
   "metadata": {},
   "outputs": [],
   "source": []
  }
 ],
 "metadata": {
  "kernelspec": {
   "display_name": "Python 3",
   "language": "python",
   "name": "python3"
  },
  "language_info": {
   "codemirror_mode": {
    "name": "ipython",
    "version": 3
   },
   "file_extension": ".py",
   "mimetype": "text/x-python",
   "name": "python",
   "nbconvert_exporter": "python",
   "pygments_lexer": "ipython3",
   "version": "3.8.3"
  }
 },
 "nbformat": 4,
 "nbformat_minor": 4
}
