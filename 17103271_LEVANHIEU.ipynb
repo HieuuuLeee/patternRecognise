{
 "cells": [
  {
   "cell_type": "markdown",
   "metadata": {},
   "source": [
    "## LE VAN HIEU\n",
    "## MSSV: 17103271"
   ]
  },
  {
   "cell_type": "code",
   "execution_count": 2,
   "metadata": {},
   "outputs": [],
   "source": [
    "import numpy as np\n",
    "import matplotlib.pyplot as plt"
   ]
  },
  {
   "cell_type": "markdown",
   "metadata": {},
   "source": [
    "# PRACTICE I"
   ]
  },
  {
   "cell_type": "markdown",
   "metadata": {},
   "source": [
    "## Problem 1\n",
    "The values of features for nine samples from class A are 1,2,3,3,4,4,6,6,8. Nine samples from class B had x values of 4,6,7,7,8,9,9,10,12. Find a decision boundary (threshold) that minimizes the total number of misclassifications."
   ]
  },
  {
   "cell_type": "code",
   "execution_count": 220,
   "metadata": {},
   "outputs": [],
   "source": [
    "A = np.array([1,2,3,3,4,4,6,6,8])\n",
    "B = np.array([4,6,7,7,8,9,9,10,12])"
   ]
  },
  {
   "cell_type": "markdown",
   "metadata": {},
   "source": [
    "#### Function find Histogram"
   ]
  },
  {
   "cell_type": "code",
   "execution_count": 221,
   "metadata": {},
   "outputs": [],
   "source": [
    "def his(A,res):\n",
    "    for i in range(len(A)):\n",
    "        res[A[i]] += 1"
   ]
  },
  {
   "cell_type": "code",
   "execution_count": 222,
   "metadata": {},
   "outputs": [],
   "source": [
    "hisA = np.zeros((max(np.max(A), np.max(B))+1))\n",
    "hisB = np.zeros((max(np.max(A), np.max(B))+1))\n",
    "his(A,hisA)\n",
    "his(B,hisB)"
   ]
  },
  {
   "cell_type": "markdown",
   "metadata": {},
   "source": [
    "### Visualize data by histogram diagram"
   ]
  },
  {
   "cell_type": "code",
   "execution_count": 227,
   "metadata": {},
   "outputs": [
    {
     "data": {
      "text/plain": [
       "<BarContainer object of 13 artists>"
      ]
     },
     "execution_count": 227,
     "metadata": {},
     "output_type": "execute_result"
    },
    {
     "data": {
      "image/png": "[encoded data removed]",
      "text/plain": [
       "<Figure size 432x288 with 2 Axes>"
      ]
     },
     "metadata": {
      "needs_background": "light"
     },
     "output_type": "display_data"
    }
   ],
   "source": [
    "plt.subplot(1,3,1)\n",
    "plt.bar(range(len(hisA)),hisA)\n",
    "\n",
    "plt.subplot(1,3,2)\n",
    "plt.bar(range(len(hisB)),hisB)"
   ]
  },
  {
   "cell_type": "code",
   "execution_count": 208,
   "metadata": {},
   "outputs": [
    {
     "data": {
      "text/plain": [
       "array([0., 1., 1., 2., 2., 0., 2., 0., 1., 0., 0., 0., 0.])"
      ]
     },
     "execution_count": 208,
     "metadata": {},
     "output_type": "execute_result"
    }
   ],
   "source": [
    "hisA"
   ]
  },
  {
   "cell_type": "code",
   "execution_count": 209,
   "metadata": {},
   "outputs": [
    {
     "data": {
      "text/plain": [
       "array([0., 0., 0., 0., 1., 0., 1., 2., 1., 2., 1., 0., 1.])"
      ]
     },
     "execution_count": 209,
     "metadata": {},
     "output_type": "execute_result"
    }
   ],
   "source": [
    "hisB"
   ]
  },
  {
   "cell_type": "markdown",
   "metadata": {},
   "source": [
    "#### Function find the thresholding"
   ]
  },
  {
   "cell_type": "code",
   "execution_count": 210,
   "metadata": {},
   "outputs": [],
   "source": [
    "def findRes(A,B):\n",
    "    sumA = np.sum(A)\n",
    "    sumB = np.sum(B)\n",
    "    pre = 0\n",
    "    for i in range(len(A)):\n",
    "        pre+=A[len(A)-i-1]\n",
    "        A[len(A)-i-1]=pre\n",
    "    pre = 0\n",
    "    for i in range(len(B)):\n",
    "        pre+=B[i]\n",
    "        B[i]=pre\n",
    "    print(A)\n",
    "    print(B)\n",
    "    \n",
    "    C = np.zeros((len(A)))\n",
    "    print(C)\n",
    "#     print(C.dtype)\n",
    "    for i in range(len(A)-1):\n",
    "        C[i] = (sumA-A[i+1]+sumB-B[i])\n",
    "    for i in range(len(A)-1):\n",
    "        if(C[i+1]<C[i]):\n",
    "            return [i,C[i]]"
   ]
  },
  {
   "cell_type": "code",
   "execution_count": 211,
   "metadata": {},
   "outputs": [
    {
     "name": "stdout",
     "output_type": "stream",
     "text": [
      "[9. 9. 8. 7. 5. 3. 3. 1. 1. 0. 0. 0. 0.]\n",
      "[0. 0. 0. 0. 1. 1. 2. 4. 5. 7. 8. 8. 9.]\n",
      "[0. 0. 0. 0. 0. 0. 0. 0. 0. 0. 0. 0. 0.]\n"
     ]
    }
   ],
   "source": [
    "res = findRes(hisA,hisB)"
   ]
  },
  {
   "cell_type": "markdown",
   "metadata": {},
   "source": [
    "### Result"
   ]
  },
  {
   "cell_type": "code",
   "execution_count": 212,
   "metadata": {},
   "outputs": [
    {
     "name": "stdout",
     "output_type": "stream",
     "text": [
      "Threshold:\n",
      "6\n",
      "Error:\n",
      "3.0\n"
     ]
    }
   ],
   "source": [
    "print(\"Threshold:\")\n",
    "print(res[0])\n",
    "print(\"Error:\")\n",
    "print(hisA[0]+hisB[len(hisA)-1]-res[1])"
   ]
  }
 ],
 "metadata": {
  "kernelspec": {
   "display_name": "Python 3",
   "language": "python",
   "name": "python3"
  },
  "language_info": {
   "codemirror_mode": {
    "name": "ipython",
    "version": 3
   },
   "file_extension": ".py",
   "mimetype": "text/x-python",
   "name": "python",
   "nbconvert_exporter": "python",
   "pygments_lexer": "ipython3",
   "version": "3.8.3"
  }
 },
 "nbformat": 4,
 "nbformat_minor": 4
}
