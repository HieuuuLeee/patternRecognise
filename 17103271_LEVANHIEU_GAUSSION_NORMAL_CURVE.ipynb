{
 "cells": [
  {
   "cell_type": "code",
   "execution_count": 9,
   "metadata": {},
   "outputs": [],
   "source": [
    "import matplotlib.pyplot as plt\n",
    "\n",
    "import statistics as stat\n",
    "import numpy as np\n",
    "from scipy.stats import norm\n",
    "import math"
   ]
  },
  {
   "cell_type": "markdown",
   "metadata": {},
   "source": [
    "### 3.\tTính mean và variance của các vector đặc trưng sau:\n",
    "\n",
    "a.\t[1 2 4 6 9 10 20 7]\n",
    "\n",
    "b.\t[0 2 4 6 8 … 100]; tất cả các số chẳn từ 0 đến 100.\n",
    "\n",
    "c.\t[1 3 25 … 9801]; tất cả bình phương các số lẻ từ 1 đến 100.\n",
    "\n"
   ]
  },
  {
   "cell_type": "code",
   "execution_count": 6,
   "metadata": {},
   "outputs": [],
   "source": [
    "a = [1,2,4,6,9,10,20,7]"
   ]
  },
  {
   "cell_type": "code",
   "execution_count": 11,
   "metadata": {},
   "outputs": [
    {
     "name": "stdout",
     "output_type": "stream",
     "text": [
      "mean of array a: 7.375\n"
     ]
    }
   ],
   "source": [
    "mean = stat.mean(a)\n",
    "print('mean of array a: '+str(mean))"
   ]
  },
  {
   "cell_type": "code",
   "execution_count": 12,
   "metadata": {},
   "outputs": [
    {
     "name": "stdout",
     "output_type": "stream",
     "text": [
      "variance of array a: 35.982142857142854\n"
     ]
    }
   ],
   "source": [
    "variance = stat.variance(a)\n",
    "print('variance of array a: '+str(variance))"
   ]
  },
  {
   "cell_type": "code",
   "execution_count": 18,
   "metadata": {},
   "outputs": [
    {
     "data": {
      "text/plain": [
       "array([  0,   2,   4,   6,   8,  10,  12,  14,  16,  18,  20,  22,  24,\n",
       "        26,  28,  30,  32,  34,  36,  38,  40,  42,  44,  46,  48,  50,\n",
       "        52,  54,  56,  58,  60,  62,  64,  66,  68,  70,  72,  74,  76,\n",
       "        78,  80,  82,  84,  86,  88,  90,  92,  94,  96,  98, 100])"
      ]
     },
     "execution_count": 18,
     "metadata": {},
     "output_type": "execute_result"
    }
   ],
   "source": [
    "b = np.array(range(51))*2\n",
    "b"
   ]
  },
  {
   "cell_type": "code",
   "execution_count": 19,
   "metadata": {},
   "outputs": [
    {
     "name": "stdout",
     "output_type": "stream",
     "text": [
      "mean of array b: 50\n",
      "variance of array b: 884\n"
     ]
    }
   ],
   "source": [
    "mean = stat.mean(b)\n",
    "print('mean of array b: '+str(mean))\n",
    "variance = stat.variance(b)\n",
    "print('variance of array b: '+str(variance))"
   ]
  },
  {
   "cell_type": "code",
   "execution_count": 24,
   "metadata": {},
   "outputs": [
    {
     "name": "stdout",
     "output_type": "stream",
     "text": [
      "[   1    9   25   49   81  121  169  225  289  361  441  529  625  729\n",
      "  841  961 1089 1225 1369 1521 1681 1849 2025 2209 2401 2601 2809 3025\n",
      " 3249 3481 3721 3969 4225 4489 4761 5041 5329 5625 5929 6241 6561 6889\n",
      " 7225 7569 7921 8281 8649 9025 9409 9801]\n"
     ]
    }
   ],
   "source": [
    "test = np.array(range(50))*2+1\n",
    "c = np.array(test)*np.array(test)\n",
    "print(c)"
   ]
  },
  {
   "cell_type": "code",
   "execution_count": 25,
   "metadata": {},
   "outputs": [
    {
     "name": "stdout",
     "output_type": "stream",
     "text": [
      "mean of array c: 3333\n",
      "variance of array c: 9065760\n"
     ]
    }
   ],
   "source": [
    "mean = stat.mean(c)\n",
    "print('mean of array c: '+str(mean))\n",
    "variance = stat.variance(c)\n",
    "print('variance of array c: '+str(variance))"
   ]
  },
  {
   "cell_type": "code",
   "execution_count": 30,
   "metadata": {},
   "outputs": [],
   "source": [
    "d = [[2, 4], \n",
    "    [3, 7],\n",
    "    [4, 6],  \n",
    "    [5, 5], \n",
    "    [2, 3]]\n",
    "d = np.array(d)"
   ]
  },
  {
   "cell_type": "code",
   "execution_count": 31,
   "metadata": {},
   "outputs": [
    {
     "name": "stdout",
     "output_type": "stream",
     "text": [
      "mean of array d: 4.1\n",
      "variance of array d: 2.4899999999999998\n"
     ]
    }
   ],
   "source": [
    "mean = np.mean(d)\n",
    "print('mean of array d: '+str(mean))\n",
    "variance = np.var(d)\n",
    "print('variance of array d: '+str(variance))"
   ]
  },
  {
   "cell_type": "markdown",
   "metadata": {},
   "source": [
    "### 4.\tTính covariance matrix của các vector đặc trưng sau:\n",
    "X=[2 3 6 3 7 8] và Y=[5 7 9 6 7 8].\n"
   ]
  },
  {
   "cell_type": "code",
   "execution_count": 34,
   "metadata": {},
   "outputs": [
    {
     "name": "stdout",
     "output_type": "stream",
     "text": [
      "covariance of array x|y: \n",
      "[[6.16666667 2.6       ]\n",
      " [2.6        2.        ]]\n"
     ]
    }
   ],
   "source": [
    "x = np.array([2, 3, 6, 3, 7, 8])\n",
    "y = np.array([5, 7, 9, 6, 7, 8])\n",
    "print('covariance of array x|y: ')\n",
    "print(np.cov(x,y))"
   ]
  },
  {
   "cell_type": "markdown",
   "metadata": {},
   "source": [
    "### 5.\tTạo hàm mật độ của phân bố Gauss với mean là 5 và variance là 3. Plot hàm kết quả."
   ]
  },
  {
   "cell_type": "code",
   "execution_count": 43,
   "metadata": {},
   "outputs": [],
   "source": [
    "def gauss(x, mean, variance):\n",
    "    return (1/(np.sqrt(2*np.pi)*mean))*np.exp((-1/2)*((x-mean)/variance)**2)"
   ]
  },
  {
   "cell_type": "code",
   "execution_count": 44,
   "metadata": {},
   "outputs": [
    {
     "data": {
      "image/png": "[encoded data removed]",
      "text/plain": [
       "<Figure size 432x288 with 1 Axes>"
      ]
     },
     "metadata": {
      "needs_background": "light"
     },
     "output_type": "display_data"
    }
   ],
   "source": [
    "mu = 5\n",
    "variance = 3\n",
    "\n",
    "x_label = np.linspace(mu-variance*4,mu+variance*4)\n",
    "plt.plot(x_label, gauss(x_label,mu,variance))\n",
    "plt.show()"
   ]
  },
  {
   "cell_type": "markdown",
   "metadata": {},
   "source": [
    "### 6.\t Tạo hàm mật độ của phân bố Gauss khác với mean là 2 và variance là 1.5. Plot hàm này trong cùng cửa sổ với hàm được tạo ra ở câu 3. Cho nhận xét."
   ]
  },
  {
   "cell_type": "code",
   "execution_count": 42,
   "metadata": {},
   "outputs": [
    {
     "data": {
      "image/png": "[encoded data removed]",
      "text/plain": [
       "<Figure size 432x288 with 1 Axes>"
      ]
     },
     "metadata": {
      "needs_background": "light"
     },
     "output_type": "display_data"
    }
   ],
   "source": [
    "mu = 2\n",
    "variance = 1.5\n",
    "\n",
    "x_label = np.linspace(mu-variance*4,mu+variance*4)\n",
    "plt.plot(x_label, gauss(x_label,mu,variance))\n",
    "plt.show()"
   ]
  },
  {
   "cell_type": "markdown",
   "metadata": {},
   "source": [
    "### So sánh:"
   ]
  },
  {
   "cell_type": "code",
   "execution_count": 48,
   "metadata": {},
   "outputs": [
    {
     "data": {
      "image/png": "[encoded data removed]",
      "text/plain": [
       "<Figure size 432x288 with 1 Axes>"
      ]
     },
     "metadata": {
      "needs_background": "light"
     },
     "output_type": "display_data"
    }
   ],
   "source": [
    "meanA = 5\n",
    "varianceA = 3\n",
    "\n",
    "meanB = 2\n",
    "varianceB = 1.5\n",
    "\n",
    "x_label = np.linspace(min(meanA-varianceA*4, meanB-varianceB*4),max(meanA+varianceA*4, meanB+varianceB*4))\n",
    "plt.plot(x_label, gauss(x_label,meanA,varianceA))\n",
    "plt.plot(x_label, gauss(x_label,meanB,varianceB),'g')\n",
    "plt.title('Biểu đồ so sánh giữa 2 phân bố chuẩn')\n",
    "plt.show()"
   ]
  },
  {
   "cell_type": "markdown",
   "metadata": {},
   "source": [
    "### 7.\tTạo hàm mật độ phân bố Gauss 2 chiều với mean [1 3] và variance [2 2]. Plot hàm này trên lưới [-10 10] x [-10 10] và tính khoảng cách Mahalanobis đối với các mẫu [0 0], [3 4], và [1 2]."
   ]
  },
  {
   "cell_type": "code",
   "execution_count": 94,
   "metadata": {},
   "outputs": [],
   "source": [
    "# Our 2-dimensional distribution will be over variables X and Y\n",
    "X = np.linspace(-10, 10)\n",
    "Y = np.linspace(-10, 10)\n",
    "X, Y = np.meshgrid(X, Y)"
   ]
  },
  {
   "cell_type": "code",
   "execution_count": 95,
   "metadata": {},
   "outputs": [],
   "source": [
    "# Mean vector and Variance vector:\n",
    "mean = np.array([1, 3])\n",
    "variance = np.array([2, 2])"
   ]
  },
  {
   "cell_type": "code",
   "execution_count": 99,
   "metadata": {},
   "outputs": [
    {
     "name": "stdout",
     "output_type": "stream",
     "text": [
      "(50, 1)\n",
      "(50, 1)\n"
     ]
    }
   ],
   "source": [
    "gausX = gauss(X[0],mean[0],variance[0])[:, np.newaxis]\n",
    "gausY = gauss(Y[0],mean[1],variance[1])[:, np.newaxis]\n",
    "print(gausX.shape)\n",
    "print(gausY.shape)"
   ]
  },
  {
   "cell_type": "code",
   "execution_count": 100,
   "metadata": {},
   "outputs": [
    {
     "data": {
      "text/plain": [
       "array([[9.58349472e-18, 9.58349472e-18, 9.58349472e-18, ...,\n",
       "        9.58349472e-18, 9.58349472e-18, 9.58349472e-18],\n",
       "       [2.88372122e-17, 2.88372122e-17, 2.88372122e-17, ...,\n",
       "        2.88372122e-17, 2.88372122e-17, 2.88372122e-17],\n",
       "       [8.32328126e-17, 8.32328126e-17, 8.32328126e-17, ...,\n",
       "        8.32328126e-17, 8.32328126e-17, 8.32328126e-17],\n",
       "       ...,\n",
       "       [8.21303978e-15, 8.21303978e-15, 8.21303978e-15, ...,\n",
       "        8.21303978e-15, 8.21303978e-15, 8.21303978e-15],\n",
       "       [3.48974871e-15, 3.48974871e-15, 3.48974871e-15, ...,\n",
       "        3.48974871e-15, 3.48974871e-15, 3.48974871e-15],\n",
       "       [1.42231673e-15, 1.42231673e-15, 1.42231673e-15, ...,\n",
       "        1.42231673e-15, 1.42231673e-15, 1.42231673e-15]])"
      ]
     },
     "execution_count": 100,
     "metadata": {},
     "output_type": "execute_result"
    }
   ],
   "source": [
    "Z = gausX.dot(gausY.transpose())\n",
    "Z"
   ]
  },
  {
   "cell_type": "code",
   "execution_count": 103,
   "metadata": {},
   "outputs": [
    {
     "ename": "AttributeError",
     "evalue": "module 'matplotlib.pyplot' has no attribute 'plot_surface'",
     "output_type": "error",
     "traceback": [
      "\u001b[1;31m---------------------------------------------------------------------------\u001b[0m",
      "\u001b[1;31mAttributeError\u001b[0m                            Traceback (most recent call last)",
      "\u001b[1;32m<ipython-input-103-6c9f1060cb7b>\u001b[0m in \u001b[0;36m<module>\u001b[1;34m\u001b[0m\n\u001b[0;32m      4\u001b[0m \u001b[1;33m\u001b[0m\u001b[0m\n\u001b[0;32m      5\u001b[0m \u001b[1;31m# plt.subplot(1,2,2)\u001b[0m\u001b[1;33m\u001b[0m\u001b[1;33m\u001b[0m\u001b[1;33m\u001b[0m\u001b[0m\n\u001b[1;32m----> 6\u001b[1;33m \u001b[0mplt\u001b[0m\u001b[1;33m.\u001b[0m\u001b[0mplot_surface\u001b[0m\u001b[1;33m(\u001b[0m\u001b[0mX\u001b[0m\u001b[1;33m,\u001b[0m\u001b[0mY\u001b[0m\u001b[1;33m,\u001b[0m\u001b[0mZ\u001b[0m\u001b[1;33m)\u001b[0m\u001b[1;33m\u001b[0m\u001b[1;33m\u001b[0m\u001b[0m\n\u001b[0m",
      "\u001b[1;31mAttributeError\u001b[0m: module 'matplotlib.pyplot' has no attribute 'plot_surface'"
     ]
    }
   ],
   "source": [
    "# plt.subplot(1,2,1)\n",
    "# # plt.plot(X[0], gausX)\n",
    "# # plt.plot(Y[0], gausY, 'g')\n",
    "\n",
    "# plt.subplot(1,2,2)\n",
    "plt.plot_surface(X,Y,Z)"
   ]
  },
  {
   "cell_type": "code",
   "execution_count": null,
   "metadata": {},
   "outputs": [],
   "source": []
  },
  {
   "cell_type": "code",
   "execution_count": null,
   "metadata": {},
   "outputs": [],
   "source": []
  },
  {
   "cell_type": "code",
   "execution_count": null,
   "metadata": {},
   "outputs": [],
   "source": [
    "plt.show()"
   ]
  },
  {
   "cell_type": "code",
   "execution_count": 68,
   "metadata": {},
   "outputs": [
    {
     "data": {
      "text/plain": [
       "1.665334536937729e-16"
      ]
     },
     "execution_count": 68,
     "metadata": {},
     "output_type": "execute_result"
    }
   ],
   "source": [
    "ex = np.array([[1, 2, 3],\n",
    "            [2, 3, 4],\n",
    "            [4, 5, 6]])\n",
    "np.linalg.det(ex)"
   ]
  },
  {
   "cell_type": "markdown",
   "metadata": {},
   "source": [
    "### Câu 8:"
   ]
  },
  {
   "cell_type": "code",
   "execution_count": null,
   "metadata": {},
   "outputs": [],
   "source": []
  },
  {
   "cell_type": "code",
   "execution_count": null,
   "metadata": {},
   "outputs": [],
   "source": []
  },
  {
   "cell_type": "code",
   "execution_count": null,
   "metadata": {},
   "outputs": [],
   "source": []
  },
  {
   "cell_type": "code",
   "execution_count": null,
   "metadata": {},
   "outputs": [],
   "source": []
  },
  {
   "cell_type": "code",
   "execution_count": null,
   "metadata": {},
   "outputs": [],
   "source": []
  },
  {
   "cell_type": "code",
   "execution_count": null,
   "metadata": {},
   "outputs": [],
   "source": []
  },
  {
   "cell_type": "code",
   "execution_count": null,
   "metadata": {},
   "outputs": [],
   "source": []
  },
  {
   "cell_type": "code",
   "execution_count": null,
   "metadata": {},
   "outputs": [],
   "source": []
  },
  {
   "cell_type": "code",
   "execution_count": null,
   "metadata": {},
   "outputs": [],
   "source": []
  },
  {
   "cell_type": "code",
   "execution_count": null,
   "metadata": {},
   "outputs": [],
   "source": []
  },
  {
   "cell_type": "code",
   "execution_count": null,
   "metadata": {},
   "outputs": [],
   "source": []
  },
  {
   "cell_type": "code",
   "execution_count": null,
   "metadata": {},
   "outputs": [],
   "source": []
  },
  {
   "cell_type": "code",
   "execution_count": null,
   "metadata": {},
   "outputs": [],
   "source": []
  }
 ],
 "metadata": {
  "kernelspec": {
   "display_name": "Python 3",
   "language": "python",
   "name": "python3"
  },
  "language_info": {
   "codemirror_mode": {
    "name": "ipython",
    "version": 3
   },
   "file_extension": ".py",
   "mimetype": "text/x-python",
   "name": "python",
   "nbconvert_exporter": "python",
   "pygments_lexer": "ipython3",
   "version": "3.8.3"
  }
 },
 "nbformat": 4,
 "nbformat_minor": 4
}
